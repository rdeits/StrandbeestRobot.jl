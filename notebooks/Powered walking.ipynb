{
 "cells": [
  {
   "cell_type": "code",
   "execution_count": null,
   "metadata": {},
   "outputs": [],
   "source": [
    "using Pkg\n",
    "Pkg.activate(@__DIR__)\n",
    "Pkg.instantiate()"
   ]
  },
  {
   "cell_type": "code",
   "execution_count": null,
   "metadata": {},
   "outputs": [],
   "source": [
    "using RigidBodyDynamics\n",
    "using RigidBodySim\n",
    "using MeshCatMechanisms\n",
    "using StrandbeestRobot\n",
    "using Rotations: RotMatrix\n",
    "using StaticArrays: SVector"
   ]
  },
  {
   "cell_type": "code",
   "execution_count": null,
   "metadata": {},
   "outputs": [],
   "source": [
    "mechanism = StrandbeestRobot.mechanism()\n",
    "gui = GUI(mechanism, URDFVisuals(StrandbeestRobot.urdfpath()));"
   ]
  },
  {
   "cell_type": "code",
   "execution_count": null,
   "metadata": {},
   "outputs": [],
   "source": [
    "#NBSKIP\n",
    "open(gui);"
   ]
  },
  {
   "cell_type": "code",
   "execution_count": null,
   "metadata": {},
   "outputs": [],
   "source": [
    "state = MechanismState(mechanism)\n",
    "StrandbeestRobot.solve_initial_configuration!(state)\n",
    "\n",
    "floatingjoint = findjoint(mechanism, \"floating_base\")\n",
    "tf = Transform3D(frame_after(floatingjoint), frame_before(floatingjoint), one(RotMatrix{3}), SVector(0, 0, 0.9))\n",
    "set_configuration!(state, floatingjoint, tf)\n",
    "\n",
    "copyto!(gui.visualizer, state)"
   ]
  },
  {
   "cell_type": "code",
   "execution_count": null,
   "metadata": {},
   "outputs": [],
   "source": [
    "# Simulate the robot\n",
    "control! = let I = velocity_range(state, findjoint(mechanism, \"joint_crossbar_crank\"))\n",
    "    function (τ, t, state)\n",
    "        τ[I] .= -10.0 .* (velocity(state)[I] .- 2.0)\n",
    "    end\n",
    "end\n",
    "dynamics = Dynamics(mechanism, control!)\n",
    "problem = ODEProblem(dynamics, state, (0, 5.0))\n",
    "@time solution = solve(problem, Tsit5(), abs_tol=1e-6, dt=1e-6)\n",
    "setanimation!(gui.visualizer, solution)"
   ]
  }
 ],
 "metadata": {
  "@webio": {
   "lastCommId": "0dcb188857f04201b16699b527f9802f",
   "lastKernelId": "8123964d-57e4-443f-bbb1-5156483a53e9"
  },
  "kernelspec": {
   "display_name": "Julia 1.1.0",
   "language": "julia",
   "name": "julia-1.1"
  },
  "language_info": {
   "file_extension": ".jl",
   "mimetype": "application/julia",
   "name": "julia",
   "version": "1.0.3"
  }
 },
 "nbformat": 4,
 "nbformat_minor": 2
}
