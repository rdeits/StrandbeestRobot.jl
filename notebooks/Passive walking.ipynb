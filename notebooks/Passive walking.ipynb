{
 "cells": [
  {
   "cell_type": "code",
   "execution_count": null,
   "metadata": {},
   "outputs": [],
   "source": [
    "using Pkg\n",
    "Pkg.activate(@__DIR__)\n",
    "Pkg.instantiate()"
   ]
  },
  {
   "cell_type": "code",
   "execution_count": null,
   "metadata": {},
   "outputs": [],
   "source": [
    "using RigidBodyDynamics\n",
    "using RigidBodySim\n",
    "using MeshCatMechanisms\n",
    "using StrandbeestRobot\n",
    "\n",
    "using StaticArrays: SVector\n",
    "using LinearAlgebra: normalize\n",
    "using RigidBodyDynamics.Contact: HalfSpace3D\n",
    "using GeometryTypes: HyperRectangle, Vec\n",
    "using CoordinateTransformations: LinearMap\n",
    "using Colors: RGB\n",
    "using Rotations: RotY, Quat, rotation_between\n",
    "using MeshCat: setobject!, settransform!, MeshPhongMaterial"
   ]
  },
  {
   "cell_type": "code",
   "execution_count": null,
   "metadata": {},
   "outputs": [],
   "source": [
    "mechanism = StrandbeestRobot.mechanism(add_flat_ground=false)\n",
    "ground_normal = normalize(SVector(1., 0, 5))\n",
    "add_environment_primitive!(mechanism, \n",
    "    HalfSpace3D(Point3D(root_frame(mechanism), 0., 0, 0),\n",
    "        FreeVector3D(root_frame(mechanism), ground_normal)))\n",
    "\n",
    "gui = GUI(mechanism, URDFVisuals(StrandbeestRobot.urdfpath()));"
   ]
  },
  {
   "cell_type": "code",
   "execution_count": null,
   "metadata": {},
   "outputs": [],
   "source": [
    "#NBSKIP\n",
    "open(gui);"
   ]
  },
  {
   "cell_type": "code",
   "execution_count": null,
   "metadata": {},
   "outputs": [],
   "source": [
    "state = MechanismState(mechanism)\n",
    "StrandbeestRobot.solve_initial_configuration!(state)"
   ]
  },
  {
   "cell_type": "code",
   "execution_count": null,
   "metadata": {},
   "outputs": [],
   "source": [
    "floatingjoint = findjoint(mechanism, \"floating_base\")\n",
    "rot = Quat(rotation_between(SVector(0., 0, 1), ground_normal))\n",
    "tf = Transform3D(frame_after(floatingjoint), frame_before(floatingjoint), rot, SVector(0, 0, 0.9))\n",
    "set_configuration!(state, floatingjoint, tf)\n",
    "\n",
    "setobject!(gui.visualizer.visualizer[:ground], HyperRectangle(Vec(-50, -2, -0.01), Vec(100, 4, 0.02)), \n",
    "MeshPhongMaterial(color=RGB(0.5, 0.5, 0.5)))\n",
    "settransform!(gui.visualizer.visualizer[:ground], LinearMap(rot))\n",
    "\n",
    "copyto!(gui.visualizer, state)"
   ]
  },
  {
   "cell_type": "code",
   "execution_count": null,
   "metadata": {},
   "outputs": [],
   "source": [
    "# Simulate the robot\n",
    "damping = function (τ, t, state)\n",
    "    τ .= -0.1 .* velocity(state)\n",
    "end\n",
    "dynamics = Dynamics(mechanism, damping)\n",
    "problem = ODEProblem(dynamics, state, (0, 5.0))\n",
    "@time solution = solve(problem, Tsit5(), abs_tol=1e-6, dt=1e-6)\n",
    "setanimation!(gui.visualizer, solution)"
   ]
  },
  {
   "cell_type": "code",
   "execution_count": null,
   "metadata": {},
   "outputs": [],
   "source": []
  }
 ],
 "metadata": {
  "@webio": {
   "lastCommId": null,
   "lastKernelId": null
  },
  "kernelspec": {
   "display_name": "Julia 1.1.0",
   "language": "julia",
   "name": "julia-1.1"
  },
  "language_info": {
   "file_extension": ".jl",
   "mimetype": "application/julia",
   "name": "julia",
   "version": "1.1.0"
  }
 },
 "nbformat": 4,
 "nbformat_minor": 2
}
