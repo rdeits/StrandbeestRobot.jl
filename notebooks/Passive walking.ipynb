{
 "cells": [
  {
   "cell_type": "code",
   "execution_count": 18,
   "metadata": {},
   "outputs": [],
   "source": [
    "using RigidBodyDynamics\n",
    "using RigidBodySim\n",
    "using MeshCatMechanisms\n",
    "using StrandbeestRobot\n",
    "\n",
    "using StaticArrays: SVector\n",
    "using LinearAlgebra: normalize\n",
    "using RigidBodyDynamics.Contact: HalfSpace3D\n",
    "using GeometryTypes: HyperRectangle, Vec\n",
    "using CoordinateTransformations: LinearMap\n",
    "using Colors: RGB\n",
    "using Rotations: RotY, Quat, rotation_between\n",
    "using MeshCat: setobject!, settransform!, MeshPhongMaterial"
   ]
  },
  {
   "cell_type": "code",
   "execution_count": null,
   "metadata": {},
   "outputs": [],
   "source": [
    "mechanism = StrandbeestRobot.mechanism(add_flat_ground=false)\n",
    "ground_normal = normalize(SVector(1., 0, 5))\n",
    "add_environment_primitive!(mechanism, \n",
    "    HalfSpace3D(Point3D(root_frame(mechanism), 0., 0, 0),\n",
    "        FreeVector3D(root_frame(mechanism), ground_normal)))\n",
    "\n",
    "gui = GUI(mechanism, URDFVisuals(StrandbeestRobot.urdfpath()))"
   ]
  },
  {
   "cell_type": "code",
   "execution_count": 25,
   "metadata": {},
   "outputs": [
    {
     "name": "stderr",
     "output_type": "stream",
     "text": [
      "┌ Warning: Initial position cannot be on the boundary of the box. Moving elements to the interior.\n",
      "│ Element indices affected: [21, 22, 23, 24, 25, 26, 27, 28, 29, 30, 31, 32, 33, 34, 35, 36, 37, 38, 39, 40, 41, 42, 43, 44, 45, 46, 48, 49, 51, 52, 54, 55, 57, 58, 60, 61, 63, 64, 66, 67, 69, 70, 72, 73, 75, 76, 78, 79]\n",
      "└ @ Optim /home/rdeits/.julia/packages/Optim/fabGe/src/multivariate/solvers/constrained/fminbox.jl:212\n"
     ]
    }
   ],
   "source": [
    "#NBSKIP\n",
    "open(gui)"
   ]
  },
  {
   "cell_type": "code",
   "execution_count": null,
   "metadata": {},
   "outputs": [],
   "source": [
    "state = MechanismState(mechanism)\n",
    "StrandbeestRobot.solve_initial_configuration!(state)\n",
    "\n",
    "floatingjoint = findjoint(mechanism, \"floating_base\")\n",
    "rot = Quat(rotation_between(SVector(0., 0, 1), ground_normal))\n",
    "set_configuration!(state, floatingjoint, [rot.w, rot.x, rot.y, rot.z, 0, 0, 0.9])\n",
    "\n",
    "setobject!(gui.visualizer.visualizer[:ground], HyperRectangle(Vec(-50, -2, -0.01), Vec(100, 4, 0.02)), \n",
    "MeshPhongMaterial(color=RGB(0.5, 0.5, 0.5)))\n",
    "settransform!(gui.visualizer.visualizer[:ground], LinearMap(rot))\n",
    "\n",
    "copyto!(gui.visualizer, state)"
   ]
  },
  {
   "cell_type": "code",
   "execution_count": 31,
   "metadata": {},
   "outputs": [
    {
     "name": "stdout",
     "output_type": "stream",
     "text": [
      " 39.752277 seconds (4.45 M allocations: 985.935 MiB, 1.12% gc time)\n"
     ]
    }
   ],
   "source": [
    "# Simulate the robot\n",
    "damping = function (τ, t, state)\n",
    "    τ .= -0.1 .* velocity(state)\n",
    "end\n",
    "dynamics = Dynamics(mechanism, damping)\n",
    "problem = ODEProblem(dynamics, state, (0, 5.0))\n",
    "@time solution = solve(problem, Tsit5(), abs_tol=1e-6, dt=1e-6)\n",
    "setanimation!(gui.visualizer, solution)"
   ]
  }
 ],
 "metadata": {
  "kernelspec": {
   "display_name": "Julia 1.0.0",
   "language": "julia",
   "name": "julia-1.0"
  },
  "language_info": {
   "file_extension": ".jl",
   "mimetype": "application/julia",
   "name": "julia",
   "version": "1.0.0"
  }
 },
 "nbformat": 4,
 "nbformat_minor": 2
}
