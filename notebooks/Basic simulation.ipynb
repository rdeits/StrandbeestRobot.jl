{
 "cells": [
  {
   "cell_type": "code",
   "execution_count": 1,
   "metadata": {},
   "outputs": [
    {
     "data": {
      "text/html": [
       "    <script class='js-collapse-script'>\n",
       "        var curMatch =\n",
       "            window.location.href\n",
       "            .match(/(.*?)\\/notebooks\\/.*\\.ipynb/);\n",
       "\n",
       "        curMatch = curMatch ||\n",
       "            window.location.href\n",
       "            .match(/(.*?)\\/apps\\/.*\\.ipynb/);\n",
       "\n",
       "        if ( curMatch ) {\n",
       "            $('head').append('<base href=\"' + curMatch[1] + '/\">');\n",
       "        }\n",
       "    </script>\n"
      ],
      "text/plain": [
       "HTML{String}(\"    <script class='js-collapse-script'>\\n        var curMatch =\\n            window.location.href\\n            .match(/(.*?)\\\\/notebooks\\\\/.*\\\\.ipynb/);\\n\\n        curMatch = curMatch ||\\n            window.location.href\\n            .match(/(.*?)\\\\/apps\\\\/.*\\\\.ipynb/);\\n\\n        if ( curMatch ) {\\n            \\$('head').append('<base href=\\\"' + curMatch[1] + '/\\\">');\\n        }\\n    </script>\\n\")"
      ]
     },
     "metadata": {},
     "output_type": "display_data"
    },
    {
     "data": {
      "text/html": [
       "<script class='js-collapse-script' src='/assetserver/998a51f82a651317b2614fbfe83ea114061d742e-assets/webio/dist/bundle.js'></script>"
      ],
      "text/plain": [
       "HTML{String}(\"<script class='js-collapse-script' src='/assetserver/998a51f82a651317b2614fbfe83ea114061d742e-assets/webio/dist/bundle.js'></script>\")"
      ]
     },
     "metadata": {},
     "output_type": "display_data"
    },
    {
     "data": {
      "text/html": [
       "<script class='js-collapse-script' src='/assetserver/998a51f82a651317b2614fbfe83ea114061d742e-assets/providers/ijulia_setup.js'></script>"
      ],
      "text/plain": [
       "HTML{String}(\"<script class='js-collapse-script' src='/assetserver/998a51f82a651317b2614fbfe83ea114061d742e-assets/providers/ijulia_setup.js'></script>\")"
      ]
     },
     "metadata": {},
     "output_type": "display_data"
    },
    {
     "data": {
      "text/html": [
       "  <script class='js-collapse-script'>\n",
       "    $('.js-collapse-script').parent('.output_subarea').css('padding', '0');\n",
       "  </script>\n"
      ],
      "text/plain": [
       "HTML{String}(\"  <script class='js-collapse-script'>\\n    \\$('.js-collapse-script').parent('.output_subarea').css('padding', '0');\\n  </script>\\n\")"
      ]
     },
     "metadata": {},
     "output_type": "display_data"
    },
    {
     "name": "stderr",
     "output_type": "stream",
     "text": [
      "┌ Info: Recompiling stale cache file /home/rdeits/.julia/compiled/v1.0/StrandbeestRobot/Nyqao.ji for StrandbeestRobot [f3f0ac65-cc51-52c1-880d-2041552cfde2]\n",
      "└ @ Base loading.jl:1184\n"
     ]
    }
   ],
   "source": [
    "using RigidBodyDynamics\n",
    "using RigidBodySim\n",
    "using MeshCatMechanisms\n",
    "using StrandbeestRobot"
   ]
  },
  {
   "cell_type": "code",
   "execution_count": 2,
   "metadata": {
    "scrolled": true
   },
   "outputs": [
    {
     "data": {
      "text/plain": [
       "Spanning tree:\n",
       "Vertex: world (root)\n",
       "  Vertex: crossbar, Edge: crossbar_to_world\n",
       "    Vertex: crank_axle, Edge: joint_crossbar_crank\n",
       "      Vertex: pair01_bar_m, Edge: pair01_joint_crank_axle_m\n",
       "        Vertex: pair01_leg1_bar_j, Edge: pair01_leg1_joint_m_j\n",
       "          Vertex: pair01_leg1_bar_k, Edge: pair01_leg1_joint_j_k\n",
       "            Vertex: pair01_leg1_bar_c, Edge: pair01_leg1_joint_k_c\n",
       "            Vertex: pair01_leg1_bars_g_h_i, Edge: pair01_leg1_joint_k_i\n",
       "          Vertex: pair01_leg1_bars_b_d_e, Edge: pair01_leg1_joint_j_e\n",
       "            Vertex: pair01_leg1_bar_f, Edge: pair01_leg1_joint_e_f\n",
       "        Vertex: pair01_leg2_bar_j, Edge: pair01_leg2_joint_m_j\n",
       "          Vertex: pair01_leg2_bar_k, Edge: pair01_leg2_joint_j_k\n",
       "            Vertex: pair01_leg2_bar_c, Edge: pair01_leg2_joint_k_c\n",
       "            Vertex: pair01_leg2_bars_g_h_i, Edge: pair01_leg2_joint_k_i\n",
       "          Vertex: pair01_leg2_bars_b_d_e, Edge: pair01_leg2_joint_j_e\n",
       "            Vertex: pair01_leg2_bar_f, Edge: pair01_leg2_joint_e_f\n",
       "      Vertex: pair02_bar_m, Edge: pair02_joint_crank_axle_m\n",
       "        Vertex: pair02_leg1_bar_j, Edge: pair02_leg1_joint_m_j\n",
       "          Vertex: pair02_leg1_bar_k, Edge: pair02_leg1_joint_j_k\n",
       "            Vertex: pair02_leg1_bar_c, Edge: pair02_leg1_joint_k_c\n",
       "            Vertex: pair02_leg1_bars_g_h_i, Edge: pair02_leg1_joint_k_i\n",
       "          Vertex: pair02_leg1_bars_b_d_e, Edge: pair02_leg1_joint_j_e\n",
       "            Vertex: pair02_leg1_bar_f, Edge: pair02_leg1_joint_e_f\n",
       "        Vertex: pair02_leg2_bar_j, Edge: pair02_leg2_joint_m_j\n",
       "          Vertex: pair02_leg2_bar_k, Edge: pair02_leg2_joint_j_k\n",
       "            Vertex: pair02_leg2_bar_c, Edge: pair02_leg2_joint_k_c\n",
       "            Vertex: pair02_leg2_bars_g_h_i, Edge: pair02_leg2_joint_k_i\n",
       "          Vertex: pair02_leg2_bars_b_d_e, Edge: pair02_leg2_joint_j_e\n",
       "            Vertex: pair02_leg2_bar_f, Edge: pair02_leg2_joint_e_f\n",
       "      Vertex: pair03_bar_m, Edge: pair03_joint_crank_axle_m\n",
       "        Vertex: pair03_leg1_bar_j, Edge: pair03_leg1_joint_m_j\n",
       "          Vertex: pair03_leg1_bar_k, Edge: pair03_leg1_joint_j_k\n",
       "            Vertex: pair03_leg1_bar_c, Edge: pair03_leg1_joint_k_c\n",
       "            Vertex: pair03_leg1_bars_g_h_i, Edge: pair03_leg1_joint_k_i\n",
       "          Vertex: pair03_leg1_bars_b_d_e, Edge: pair03_leg1_joint_j_e\n",
       "            Vertex: pair03_leg1_bar_f, Edge: pair03_leg1_joint_e_f\n",
       "        Vertex: pair03_leg2_bar_j, Edge: pair03_leg2_joint_m_j\n",
       "          Vertex: pair03_leg2_bar_k, Edge: pair03_leg2_joint_j_k\n",
       "            Vertex: pair03_leg2_bar_c, Edge: pair03_leg2_joint_k_c\n",
       "            Vertex: pair03_leg2_bars_g_h_i, Edge: pair03_leg2_joint_k_i\n",
       "          Vertex: pair03_leg2_bars_b_d_e, Edge: pair03_leg2_joint_j_e\n",
       "            Vertex: pair03_leg2_bar_f, Edge: pair03_leg2_joint_e_f\n",
       "      Vertex: pair04_bar_m, Edge: pair04_joint_crank_axle_m\n",
       "        Vertex: pair04_leg1_bar_j, Edge: pair04_leg1_joint_m_j\n",
       "          Vertex: pair04_leg1_bar_k, Edge: pair04_leg1_joint_j_k\n",
       "            Vertex: pair04_leg1_bar_c, Edge: pair04_leg1_joint_k_c\n",
       "            Vertex: pair04_leg1_bars_g_h_i, Edge: pair04_leg1_joint_k_i\n",
       "          Vertex: pair04_leg1_bars_b_d_e, Edge: pair04_leg1_joint_j_e\n",
       "            Vertex: pair04_leg1_bar_f, Edge: pair04_leg1_joint_e_f\n",
       "        Vertex: pair04_leg2_bar_j, Edge: pair04_leg2_joint_m_j\n",
       "          Vertex: pair04_leg2_bar_k, Edge: pair04_leg2_joint_j_k\n",
       "            Vertex: pair04_leg2_bar_c, Edge: pair04_leg2_joint_k_c\n",
       "            Vertex: pair04_leg2_bars_g_h_i, Edge: pair04_leg2_joint_k_i\n",
       "          Vertex: pair04_leg2_bars_b_d_e, Edge: pair04_leg2_joint_j_e\n",
       "            Vertex: pair04_leg2_bar_f, Edge: pair04_leg2_joint_e_f\n",
       "      Vertex: pair05_bar_m, Edge: pair05_joint_crank_axle_m\n",
       "        Vertex: pair05_leg1_bar_j, Edge: pair05_leg1_joint_m_j\n",
       "          Vertex: pair05_leg1_bar_k, Edge: pair05_leg1_joint_j_k\n",
       "            Vertex: pair05_leg1_bar_c, Edge: pair05_leg1_joint_k_c\n",
       "            Vertex: pair05_leg1_bars_g_h_i, Edge: pair05_leg1_joint_k_i\n",
       "          Vertex: pair05_leg1_bars_b_d_e, Edge: pair05_leg1_joint_j_e\n",
       "            Vertex: pair05_leg1_bar_f, Edge: pair05_leg1_joint_e_f\n",
       "        Vertex: pair05_leg2_bar_j, Edge: pair05_leg2_joint_m_j\n",
       "          Vertex: pair05_leg2_bar_k, Edge: pair05_leg2_joint_j_k\n",
       "            Vertex: pair05_leg2_bar_c, Edge: pair05_leg2_joint_k_c\n",
       "            Vertex: pair05_leg2_bars_g_h_i, Edge: pair05_leg2_joint_k_i\n",
       "          Vertex: pair05_leg2_bars_b_d_e, Edge: pair05_leg2_joint_j_e\n",
       "            Vertex: pair05_leg2_bar_f, Edge: pair05_leg2_joint_e_f\n",
       "      Vertex: pair06_bar_m, Edge: pair06_joint_crank_axle_m\n",
       "        Vertex: pair06_leg1_bar_j, Edge: pair06_leg1_joint_m_j\n",
       "          Vertex: pair06_leg1_bar_k, Edge: pair06_leg1_joint_j_k\n",
       "            Vertex: pair06_leg1_bar_c, Edge: pair06_leg1_joint_k_c\n",
       "            Vertex: pair06_leg1_bars_g_h_i, Edge: pair06_leg1_joint_k_i\n",
       "          Vertex: pair06_leg1_bars_b_d_e, Edge: pair06_leg1_joint_j_e\n",
       "            Vertex: pair06_leg1_bar_f, Edge: pair06_leg1_joint_e_f\n",
       "        Vertex: pair06_leg2_bar_j, Edge: pair06_leg2_joint_m_j\n",
       "          Vertex: pair06_leg2_bar_k, Edge: pair06_leg2_joint_j_k\n",
       "            Vertex: pair06_leg2_bar_c, Edge: pair06_leg2_joint_k_c\n",
       "            Vertex: pair06_leg2_bars_g_h_i, Edge: pair06_leg2_joint_k_i\n",
       "          Vertex: pair06_leg2_bars_b_d_e, Edge: pair06_leg2_joint_j_e\n",
       "            Vertex: pair06_leg2_bar_f, Edge: pair06_leg2_joint_e_f\n",
       "    Vertex: pair01_bar_l, Edge: pair01_joint_crossbar_l\n",
       "      Vertex: pair01_bar_a, Edge: pair01_joint_l_a\n",
       "    Vertex: pair02_bar_l, Edge: pair02_joint_crossbar_l\n",
       "      Vertex: pair02_bar_a, Edge: pair02_joint_l_a\n",
       "    Vertex: pair03_bar_l, Edge: pair03_joint_crossbar_l\n",
       "      Vertex: pair03_bar_a, Edge: pair03_joint_l_a\n",
       "    Vertex: pair04_bar_l, Edge: pair04_joint_crossbar_l\n",
       "      Vertex: pair04_bar_a, Edge: pair04_joint_l_a\n",
       "    Vertex: pair05_bar_l, Edge: pair05_joint_crossbar_l\n",
       "      Vertex: pair05_bar_a, Edge: pair05_joint_l_a\n",
       "    Vertex: pair06_bar_l, Edge: pair06_joint_crossbar_l\n",
       "      Vertex: pair06_bar_a, Edge: pair06_joint_l_a\n",
       "Non-tree joints:\n",
       "pair01_leg1_loop_f_g, predecessor: pair01_leg1_bar_f, successor: pair01_leg1_bars_g_h_i\n",
       "pair01_leg1_loop_b_c, predecessor: pair01_leg1_bars_b_d_e, successor: pair01_leg1_bar_c\n",
       "pair01_leg1_loop_a_c, predecessor: pair01_bar_a, successor: pair01_leg1_bar_c\n",
       "pair01_leg2_loop_f_g, predecessor: pair01_leg2_bar_f, successor: pair01_leg2_bars_g_h_i\n",
       "pair01_leg2_loop_b_c, predecessor: pair01_leg2_bars_b_d_e, successor: pair01_leg2_bar_c\n",
       "pair01_leg2_loop_a_c, predecessor: pair01_bar_a, successor: pair01_leg2_bar_c\n",
       "pair01_loop_crank_l, predecessor: crank_axle, successor: pair01_bar_l\n",
       "pair02_leg1_loop_f_g, predecessor: pair02_leg1_bar_f, successor: pair02_leg1_bars_g_h_i\n",
       "pair02_leg1_loop_b_c, predecessor: pair02_leg1_bars_b_d_e, successor: pair02_leg1_bar_c\n",
       "pair02_leg1_loop_a_c, predecessor: pair02_bar_a, successor: pair02_leg1_bar_c\n",
       "pair02_leg2_loop_f_g, predecessor: pair02_leg2_bar_f, successor: pair02_leg2_bars_g_h_i\n",
       "pair02_leg2_loop_b_c, predecessor: pair02_leg2_bars_b_d_e, successor: pair02_leg2_bar_c\n",
       "pair02_leg2_loop_a_c, predecessor: pair02_bar_a, successor: pair02_leg2_bar_c\n",
       "pair02_loop_crank_l, predecessor: crank_axle, successor: pair02_bar_l\n",
       "pair03_leg1_loop_f_g, predecessor: pair03_leg1_bar_f, successor: pair03_leg1_bars_g_h_i\n",
       "pair03_leg1_loop_b_c, predecessor: pair03_leg1_bars_b_d_e, successor: pair03_leg1_bar_c\n",
       "pair03_leg1_loop_a_c, predecessor: pair03_bar_a, successor: pair03_leg1_bar_c\n",
       "pair03_leg2_loop_f_g, predecessor: pair03_leg2_bar_f, successor: pair03_leg2_bars_g_h_i\n",
       "pair03_leg2_loop_b_c, predecessor: pair03_leg2_bars_b_d_e, successor: pair03_leg2_bar_c\n",
       "pair03_leg2_loop_a_c, predecessor: pair03_bar_a, successor: pair03_leg2_bar_c\n",
       "pair03_loop_crank_l, predecessor: crank_axle, successor: pair03_bar_l\n",
       "pair04_leg1_loop_f_g, predecessor: pair04_leg1_bar_f, successor: pair04_leg1_bars_g_h_i\n",
       "pair04_leg1_loop_b_c, predecessor: pair04_leg1_bars_b_d_e, successor: pair04_leg1_bar_c\n",
       "pair04_leg1_loop_a_c, predecessor: pair04_bar_a, successor: pair04_leg1_bar_c\n",
       "pair04_leg2_loop_f_g, predecessor: pair04_leg2_bar_f, successor: pair04_leg2_bars_g_h_i\n",
       "pair04_leg2_loop_b_c, predecessor: pair04_leg2_bars_b_d_e, successor: pair04_leg2_bar_c\n",
       "pair04_leg2_loop_a_c, predecessor: pair04_bar_a, successor: pair04_leg2_bar_c\n",
       "pair04_loop_crank_l, predecessor: crank_axle, successor: pair04_bar_l\n",
       "pair05_leg1_loop_f_g, predecessor: pair05_leg1_bar_f, successor: pair05_leg1_bars_g_h_i\n",
       "pair05_leg1_loop_b_c, predecessor: pair05_leg1_bars_b_d_e, successor: pair05_leg1_bar_c\n",
       "pair05_leg1_loop_a_c, predecessor: pair05_bar_a, successor: pair05_leg1_bar_c\n",
       "pair05_leg2_loop_f_g, predecessor: pair05_leg2_bar_f, successor: pair05_leg2_bars_g_h_i\n",
       "pair05_leg2_loop_b_c, predecessor: pair05_leg2_bars_b_d_e, successor: pair05_leg2_bar_c\n",
       "pair05_leg2_loop_a_c, predecessor: pair05_bar_a, successor: pair05_leg2_bar_c\n",
       "pair05_loop_crank_l, predecessor: crank_axle, successor: pair05_bar_l\n",
       "pair06_leg1_loop_f_g, predecessor: pair06_leg1_bar_f, successor: pair06_leg1_bars_g_h_i\n",
       "pair06_leg1_loop_b_c, predecessor: pair06_leg1_bars_b_d_e, successor: pair06_leg1_bar_c\n",
       "pair06_leg1_loop_a_c, predecessor: pair06_bar_a, successor: pair06_leg1_bar_c\n",
       "pair06_leg2_loop_f_g, predecessor: pair06_leg2_bar_f, successor: pair06_leg2_bars_g_h_i\n",
       "pair06_leg2_loop_b_c, predecessor: pair06_leg2_bars_b_d_e, successor: pair06_leg2_bar_c\n",
       "pair06_leg2_loop_a_c, predecessor: pair06_bar_a, successor: pair06_leg2_bar_c\n",
       "pair06_loop_crank_l, predecessor: crank_axle, successor: pair06_bar_l"
      ]
     },
     "execution_count": 2,
     "metadata": {},
     "output_type": "execute_result"
    }
   ],
   "source": [
    "mechanism = StrandbeestRobot.mechanism(floating=false, add_flat_ground=false)"
   ]
  },
  {
   "cell_type": "code",
   "execution_count": 3,
   "metadata": {},
   "outputs": [],
   "source": [
    "gui = GUI(mechanism, URDFVisuals(StrandbeestRobot.urdfpath()))"
   ]
  },
  {
   "cell_type": "code",
   "execution_count": null,
   "metadata": {},
   "outputs": [],
   "source": [
    "#NBSKIP\n",
    "open(gui)"
   ]
  },
  {
   "cell_type": "code",
   "execution_count": 7,
   "metadata": {},
   "outputs": [
    {
     "name": "stderr",
     "output_type": "stream",
     "text": [
      "┌ Warning: Initial position cannot be on the boundary of the box. Moving elements to the interior.\n",
      "│ Element indices affected: [14, 15, 16, 17, 18, 19, 20, 21, 22, 23, 24, 25, 26, 27, 28, 29, 30, 31, 32, 33, 34, 35, 36, 37, 38, 39, 41, 42, 44, 45, 47, 48, 50, 51, 53, 54, 56, 57, 59, 60, 62, 63, 65, 66, 68, 69, 71, 72]\n",
      "└ @ Optim /home/rdeits/.julia/packages/Optim/fabGe/src/multivariate/solvers/constrained/fminbox.jl:212\n"
     ]
    }
   ],
   "source": [
    "state = MechanismState(mechanism)\n",
    "StrandbeestRobot.solve_initial_configuration!(state)\n",
    "copyto!(gui.visualizer, state)"
   ]
  },
  {
   "cell_type": "code",
   "execution_count": 8,
   "metadata": {},
   "outputs": [
    {
     "name": "stdout",
     "output_type": "stream",
     "text": [
      "  6.746012 seconds (3.91 M allocations: 324.230 MiB, 1.79% gc time)\n"
     ]
    }
   ],
   "source": [
    "# Simulate the robot\n",
    "control! = let I = velocity_range(state, findjoint(mechanism, \"joint_crossbar_crank\"))\n",
    "    function (τ, t, state)\n",
    "        τ[I] .= -10.0 .* (velocity(state)[I] .- 3.0)\n",
    "    end\n",
    "end\n",
    "dynamics = Dynamics(mechanism, control!)\n",
    "problem = ODEProblem(dynamics, state, (0, 5.0))\n",
    "@time solution = solve(problem, Tsit5(), abs_tol=1e-6, dt=1e-6)\n",
    "setanimation!(gui.visualizer, solution)"
   ]
  }
 ],
 "metadata": {
  "kernelspec": {
   "display_name": "Julia 1.0.0",
   "language": "julia",
   "name": "julia-1.0"
  },
  "language_info": {
   "file_extension": ".jl",
   "mimetype": "application/julia",
   "name": "julia",
   "version": "1.0.0"
  }
 },
 "nbformat": 4,
 "nbformat_minor": 2
}
