{
 "cells": [
  {
   "cell_type": "code",
   "execution_count": null,
   "metadata": {},
   "outputs": [],
   "source": [
    "using RigidBodyDynamics\n",
    "using RigidBodySim\n",
    "using MeshCatMechanisms\n",
    "using StrandbeestRobot"
   ]
  },
  {
   "cell_type": "code",
   "execution_count": null,
   "metadata": {
    "scrolled": true
   },
   "outputs": [],
   "source": [
    "mechanism = StrandbeestRobot.mechanism(floating=false, add_flat_ground=false);"
   ]
  },
  {
   "cell_type": "code",
   "execution_count": null,
   "metadata": {},
   "outputs": [],
   "source": [
    "gui = GUI(mechanism, URDFVisuals(StrandbeestRobot.urdfpath()));"
   ]
  },
  {
   "cell_type": "code",
   "execution_count": null,
   "metadata": {},
   "outputs": [],
   "source": [
    "#NBSKIP\n",
    "open(gui)"
   ]
  },
  {
   "cell_type": "code",
   "execution_count": null,
   "metadata": {},
   "outputs": [],
   "source": [
    "state = MechanismState(mechanism)\n",
    "StrandbeestRobot.solve_initial_configuration!(state)\n",
    "copyto!(gui.visualizer, state)"
   ]
  },
  {
   "cell_type": "code",
   "execution_count": null,
   "metadata": {},
   "outputs": [],
   "source": [
    "# Simulate the robot\n",
    "control! = let I = velocity_range(state, findjoint(mechanism, \"joint_crossbar_crank\"))\n",
    "    function (τ, t, state)\n",
    "        τ[I] .= -10.0 .* (velocity(state)[I] .- 3.0)\n",
    "    end\n",
    "end\n",
    "dynamics = Dynamics(mechanism, control!)\n",
    "problem = ODEProblem(dynamics, state, (0, 5.0))\n",
    "@time solution = solve(problem, Tsit5(), abs_tol=1e-6, dt=1e-6)\n",
    "setanimation!(gui.visualizer, solution)"
   ]
  }
 ],
 "metadata": {
  "kernelspec": {
   "display_name": "Julia 1.0.0",
   "language": "julia",
   "name": "julia-1.0"
  },
  "language_info": {
   "file_extension": ".jl",
   "mimetype": "application/julia",
   "name": "julia",
   "version": "1.0.0"
  }
 },
 "nbformat": 4,
 "nbformat_minor": 2
}
