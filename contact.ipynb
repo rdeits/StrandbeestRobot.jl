{
 "cells": [
  {
   "cell_type": "code",
   "execution_count": null,
   "metadata": {},
   "outputs": [],
   "source": [
    "using Revise"
   ]
  },
  {
   "cell_type": "code",
   "execution_count": null,
   "metadata": {},
   "outputs": [],
   "source": [
    "using RigidBodyDynamics\n",
    "using RigidBodyDynamics.PDControl\n",
    "using RigidBodyDynamics.Contact\n",
    "const rbd = RigidBodyDynamics\n",
    "using MeshCatMechanisms\n",
    "using MeshCat\n",
    "using Statistics\n",
    "using LightXML\n",
    "using StaticArrays\n",
    "using Optim\n",
    "using LinearAlgebra\n",
    "using RigidBodySim"
   ]
  },
  {
   "cell_type": "code",
   "execution_count": null,
   "metadata": {},
   "outputs": [],
   "source": [
    "vis = Visualizer()"
   ]
  },
  {
   "cell_type": "code",
   "execution_count": null,
   "metadata": {},
   "outputs": [],
   "source": [
    "open(vis)"
   ]
  },
  {
   "cell_type": "code",
   "execution_count": null,
   "metadata": {},
   "outputs": [],
   "source": [
    "\"\"\"\n",
    "Parse the Drake-specific `loop_joint` tags from a URDF and use them\n",
    "to add non-tree joints to the given mechanism.\n",
    "\"\"\"\n",
    "function add_loop_joints!(mechanism::Mechanism{T}, urdf::AbstractString) where T\n",
    "    doc = parse_file(urdf)\n",
    "    xml_root = LightXML.root(doc)\n",
    "    xml_loops = get_elements_by_tagname(xml_root, \"loop_joint\")\n",
    "    for xml_loop in xml_loops\n",
    "        name = attribute(xml_loop, \"name\")\n",
    "        @assert attribute(xml_loop, \"type\") == \"continuous\"\n",
    "        axis = SVector{3}(rbd.parse_vector(T, find_element(xml_loop, \"axis\"), \"xyz\", \"1 0 0\"))\n",
    "        joint = Joint(name, Revolute(axis))\n",
    "        xml_link1 = find_element(xml_loop, \"link1\")\n",
    "        body1 = findbody(mechanism, attribute(xml_link1, \"link\"))\n",
    "        H1 = Transform3D(frame_before(joint), default_frame(body1),\n",
    "            rbd.parse_pose(T, xml_link1)...)\n",
    "        xml_link2 = find_element(xml_loop, \"link2\")\n",
    "        body2 = findbody(mechanism, attribute(xml_link2, \"link\"))\n",
    "        H2 = Transform3D(frame_after(joint), default_frame(body2),\n",
    "            rbd.parse_pose(T, xml_link2)...)\n",
    "        attach!(mechanism, body1, body2, joint,\n",
    "            joint_pose = H1,\n",
    "            successor_pose = inv(H2))\n",
    "    end\n",
    "end         "
   ]
  },
  {
   "cell_type": "code",
   "execution_count": null,
   "metadata": {},
   "outputs": [],
   "source": [
    "\"\"\"\n",
    "Return a function which maps a configuration vector\n",
    "for the given mechanism to the total squared error in\n",
    "the alignment of the robot's non-tree joints.\n",
    "\"\"\"\n",
    "function loop_joint_error(robot)\n",
    "    let statecache = StateCache(robot), resultcache = DynamicsResultCache(robot)\n",
    "        function(q)\n",
    "            state = statecache[eltype(q)]\n",
    "            result = resultcache[eltype(q)]\n",
    "            set_configuration!(state, q)\n",
    "            zero_velocity!(state)\n",
    "            gains = rbd.CustomCollections.ConstDict{JointID}(SE3PDGains(PDGains(1, 0), PDGains(1, 0)))\n",
    "            rbd.constraint_bias!(result, state; stabilization_gains=gains)\n",
    "            ret = result.constraintbias ⋅ result.constraintbias\n",
    "        end\n",
    "    end\n",
    "end"
   ]
  },
  {
   "cell_type": "code",
   "execution_count": null,
   "metadata": {},
   "outputs": [],
   "source": [
    "urdf = \"data/Strandbeest.urdf\"\n",
    "robot = parse_urdf(Float64, urdf)\n",
    "add_loop_joints!(robot, urdf)\n",
    "\n",
    "crossbar = findbody(robot, \"crossbar\")\n",
    "basejoint = joint_to_parent(crossbar, robot)\n",
    "floatingjoint = Joint(basejoint.name, frame_before(basejoint),\n",
    "    frame_after(basejoint), QuaternionFloating{Float64}())\n",
    "replace_joint!(robot, basejoint, floatingjoint)\n"
   ]
  },
  {
   "cell_type": "code",
   "execution_count": null,
   "metadata": {},
   "outputs": [],
   "source": [
    "# Find an initial state of the robot which correctly aligns all \n",
    "# the loop joints.\n",
    "\n",
    "# We do this before adding the contact points to work around \n",
    "# https://github.com/JuliaRobotics/RigidBodyDynamics.jl/issues/483\n",
    "\n",
    "# First, initialize the state with a configuration within the \n",
    "# joint limits:\n",
    "bounds = collect(Iterators.flatten(rbd.position_bounds.(tree_joints(robot))))\n",
    "lb = rbd.lower.(bounds)\n",
    "ub = rbd.upper.(bounds);\n",
    "state = MechanismState(robot)\n",
    "set_configuration!(state, clamp.(configuration(state), lb, ub))\n",
    "\n",
    "# Use Optim's Fminbox to minimize the loop joint error within\n",
    "# the joint limits:\n",
    "cost = loop_joint_error(robot)\n",
    "result = Optim.optimize(cost, lb, ub, \n",
    "    Vector(configuration(state)), \n",
    "    Fminbox(LBFGS()), autodiff=:forward)\n",
    "\n",
    "# Verify that we've actually closed all the loops\n",
    "@assert Optim.minimum(result) < 1e-9\n",
    "\n",
    "q0 = Optim.minimizer(result);"
   ]
  },
  {
   "cell_type": "code",
   "execution_count": null,
   "metadata": {},
   "outputs": [],
   "source": [
    "contactmodel = SoftContactModel(hunt_crossley_hertz(k = 500e3), ViscoelasticCoulombModel(1.0, 20e3, 100.))\n",
    "for body in bodies(robot)\n",
    "    if occursin(\"bars_g_h_i\", string(body))\n",
    "        frame = default_frame(body)\n",
    "        point = Point3D(frame, 0, 0, 0.49)\n",
    "        add_contact_point!(body, ContactPoint(\n",
    "            point, contactmodel))\n",
    "        \n",
    "    end\n",
    "end\n",
    "add_environment_primitive!(robot, \n",
    "HalfSpace3D(Point3D(root_frame(robot), 0., 0, 0),\n",
    "        FreeVector3D(root_frame(robot), normalize(SVector(1., 0, 5)))))\n",
    "\n",
    "state = MechanismState(robot)\n",
    "set_configuration!(state, q0)\n",
    "mvis = MechanismVisualizer(robot, URDFVisuals(urdf), vis)\n",
    "copyto!(mvis, state)"
   ]
  },
  {
   "cell_type": "code",
   "execution_count": null,
   "metadata": {},
   "outputs": [],
   "source": [
    "set_configuration!(state, q0)\n",
    "q = configuration(state)\n",
    "r = Quat(RotY(atan(1/5)))\n",
    "q[1:4] .= (r.w, r.x, r.y, r.z)\n",
    "q[7] = 1.1\n",
    "set_configuration!(state, q)\n",
    "copyto!(mvis, state)"
   ]
  },
  {
   "cell_type": "code",
   "execution_count": null,
   "metadata": {},
   "outputs": [],
   "source": [
    "using GeometryTypes\n",
    "using CoordinateTransformations\n",
    "using Colors"
   ]
  },
  {
   "cell_type": "code",
   "execution_count": null,
   "metadata": {},
   "outputs": [],
   "source": [
    "setobject!(vis[:ground], HyperRectangle(Vec(-50, -50, -0.01), Vec(100, 100, 0.02)), \n",
    "MeshPhongMaterial(color=RGB(0.5, 0.5, 0.5)))\n",
    "settransform!(vis[:ground], LinearMap(RotY(atan(1/5))))"
   ]
  },
  {
   "cell_type": "code",
   "execution_count": null,
   "metadata": {},
   "outputs": [],
   "source": [
    "# Simulate the robot\n",
    "dynamics = Dynamics(robot)\n",
    "problem = ODEProblem(dynamics, state, (0, 10.0))\n",
    "@time solution = solve(problem, Tsit5(), abs_tol=1e-6, dt=1e-6)\n",
    "setanimation!(mvis, solution)"
   ]
  },
  {
   "cell_type": "code",
   "execution_count": null,
   "metadata": {},
   "outputs": [],
   "source": []
  }
 ],
 "metadata": {
  "kernelspec": {
   "display_name": "Julia 1.0.0",
   "language": "julia",
   "name": "julia-1.0"
  },
  "language_info": {
   "file_extension": ".jl",
   "mimetype": "application/julia",
   "name": "julia",
   "version": "1.0.0"
  }
 },
 "nbformat": 4,
 "nbformat_minor": 2
}
